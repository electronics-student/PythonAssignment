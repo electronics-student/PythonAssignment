{
 "cells": [
  {
   "cell_type": "code",
   "execution_count": 2,
   "id": "870bae3d-3799-4d75-b8c4-df806d401e9e",
   "metadata": {},
   "outputs": [],
   "source": [
    "class SubfieldsInAI():\n",
    "    \n",
    "    def Subfields():\n",
    "        print(\"Sub-fields in AI are:\")\n",
    "        Subfields = \"Sub-fields in AI are:\"\n",
    "        print(\"Machine Learning\")\n",
    "        Subfields =\"Machine Learning\"\n",
    "        print(\"Neural Networks\")\n",
    "        Subfields =\"Neural Networks\"\n",
    "        print(\"Vision\")\n",
    "        Subfields =\"Vision\"\n",
    "        print(\"Robotics\")\n",
    "        Subfields =\"Robotics\"\n",
    "        print(\"Speech Processing\")\n",
    "        Subfields =\"Speech Processing\" \n",
    "        print(\"Natural Language Processing\")\n",
    "        Subfields =\"Natural Language Processing\""
   ]
  },
  {
   "cell_type": "code",
   "execution_count": 3,
   "id": "5c9ee256-f74b-4931-9e07-2306f549ec31",
   "metadata": {},
   "outputs": [
    {
     "name": "stdout",
     "output_type": "stream",
     "text": [
      "Sub-fields in AI are:\n",
      "Machine Learning\n",
      "Neural Networks\n",
      "Vision\n",
      "Robotics\n",
      "Speech Processing\n",
      "Natural Language Processing\n"
     ]
    }
   ],
   "source": [
    "SubfieldsInAI.Subfields()"
   ]
  },
  {
   "cell_type": "code",
   "execution_count": 10,
   "id": "9ee68224-9902-456c-ab4f-9068af6cdd38",
   "metadata": {},
   "outputs": [],
   "source": [
    "class OddEven():\n",
    "    def OddEven():\n",
    "        num = int(input(\"Enter a number:\"))\n",
    "        if(num % 2 == 0):\n",
    "            print(num, \" is Even Number\")\n",
    "            OddEven = \"Even Number\"\n",
    "        else:\n",
    "            print(num, \" is odd Number\")\n",
    "            OddEven = \"Odd Number\"\n",
    "            return OddEven "
   ]
  },
  {
   "cell_type": "code",
   "execution_count": 13,
   "id": "9b3d6424-48ea-4bbe-82bb-69fd89ddad06",
   "metadata": {},
   "outputs": [
    {
     "name": "stdin",
     "output_type": "stream",
     "text": [
      "Enter a number: 52452\n"
     ]
    },
    {
     "name": "stdout",
     "output_type": "stream",
     "text": [
      "52452  is Even Number\n"
     ]
    }
   ],
   "source": [
    "OddEven.OddEven()"
   ]
  },
  {
   "cell_type": "code",
   "execution_count": 6,
   "id": "618a443d-99cc-4af8-b9e3-f0a16331a618",
   "metadata": {},
   "outputs": [],
   "source": [
    "class ElegiblityForMarriage():\n",
    "    def Elegible():\n",
    "        Gender = input(\"Your Gender:\")\n",
    "        num = int(input(\"Your Age:\"))\n",
    "        if(Gender == \"Female\"):\n",
    "            if(num>=18):\n",
    "                print(\"ELIGIBLE\")\n",
    "                marriage=\"ELIGIBLE\"\n",
    "            else:\n",
    "                print(\"NOT ElIGIBLE\")\n",
    "                marriage = \"NOT ElIGIBLE\"\n",
    "        if(Gender == \"Male\"):\n",
    "            if(num>=21):\n",
    "                print(\"ELIGIBLE\")\n",
    "                marriage=\"ELIGIBLE\"\n",
    "            else:\n",
    "                print(\"NOT ElIGIBLE\")\n",
    "                marriage = \"NOT ElIGIBLE\"\n",
    "                return marriage"
   ]
  },
  {
   "cell_type": "code",
   "execution_count": 7,
   "id": "a736ba6f-c2b6-4153-a8bd-1205fed28a3e",
   "metadata": {},
   "outputs": [
    {
     "name": "stdin",
     "output_type": "stream",
     "text": [
      "Your Gender: Male\n",
      "Your Age: 20\n"
     ]
    },
    {
     "name": "stdout",
     "output_type": "stream",
     "text": [
      "NOT ElIGIBLE\n"
     ]
    },
    {
     "data": {
      "text/plain": [
       "'NOT ElIGIBLE'"
      ]
     },
     "execution_count": 7,
     "metadata": {},
     "output_type": "execute_result"
    }
   ],
   "source": [
    "ElegiblityForMarriage.Elegible()"
   ]
  },
  {
   "cell_type": "code",
   "execution_count": 36,
   "id": "7ec48f26-01de-413a-9145-8e6be05cc1c1",
   "metadata": {},
   "outputs": [],
   "source": [
    "class FindPercent():\n",
    " \n",
    "    def percentage():\n",
    "        num1 = float(input(\"Subject1=\"))\n",
    "        num2 = float(input(\"Subject2=\"))\n",
    "        num3 = float(input(\"Subject3=\"))\n",
    "        num4 = float(input(\"Subject4=\"))\n",
    "        num5 = float(input(\"Subject5=\"))\n",
    "        div=5\n",
    "        Total = num1+num2+num3+num4+num5\n",
    "        print(\"Total:\",format(Total,\".0f\"))\n",
    "        percentage = Total/div\n",
    "        print(\"Percentage :\",format(percentage,\".13f\"))\n",
    "        return percentage"
   ]
  },
  {
   "cell_type": "code",
   "execution_count": 42,
   "id": "b0618ae8-3f37-47b3-8934-45db2c996855",
   "metadata": {},
   "outputs": [
    {
     "name": "stdin",
     "output_type": "stream",
     "text": [
      "Subject1= 98\n",
      "Subject2= 87\n",
      "Subject3= 95\n",
      "Subject4= 95\n",
      "Subject5= 93\n"
     ]
    },
    {
     "name": "stdout",
     "output_type": "stream",
     "text": [
      "Total: 468\n",
      "Percentage : 93.6000000000000\n"
     ]
    },
    {
     "data": {
      "text/plain": [
       "93.6"
      ]
     },
     "execution_count": 42,
     "metadata": {},
     "output_type": "execute_result"
    }
   ],
   "source": [
    "FindPercent.percentage()"
   ]
  },
  {
   "cell_type": "code",
   "execution_count": 15,
   "id": "8f09b550-e7e3-462e-826a-91e26f84308c",
   "metadata": {},
   "outputs": [],
   "source": [
    "class triangle():\n",
    "    def triangle():\n",
    "        Height = int(input(\"Height:\"))\n",
    "        Breadth = int(input(\"Breadth:\"))\n",
    "        print(\"Area formula:(Height*Breadth)/2\")\n",
    "        Area_of_Triangle = (Height*Breadth)/2\n",
    "        print(\"Area of Triangle:\",Area_of_Triangle)\n",
    "        Height1 = int(input(\"Height1:\"))\n",
    "        Height2 = int(input(\"Height2:\"))\n",
    "        Breadth = int(input(\"Breadth:\"))\n",
    "        print(\"Perimeter of Triangle:Height1+Height2+Breadth\")\n",
    "        Perimeter_of_Triangle = Height1+Height2+Breadth\n",
    "        print(\"Perimeter of Triangle:\",Perimeter_of_Triangle)\n",
    "        return (Area_of_Triangle,Perimeter_of_Triangle)\n",
    "        "
   ]
  },
  {
   "cell_type": "code",
   "execution_count": 17,
   "id": "ebbca359-f17d-4764-ac25-8e559c107bf2",
   "metadata": {},
   "outputs": [
    {
     "name": "stdin",
     "output_type": "stream",
     "text": [
      "Height: 32\n",
      "Breadth: 34\n"
     ]
    },
    {
     "name": "stdout",
     "output_type": "stream",
     "text": [
      "Area formula:(Height*Breadth)/2\n",
      "Area of Triangle: 544.0\n"
     ]
    },
    {
     "name": "stdin",
     "output_type": "stream",
     "text": [
      "Height1: 2\n",
      "Height2: 4\n",
      "Breadth: 4\n"
     ]
    },
    {
     "name": "stdout",
     "output_type": "stream",
     "text": [
      "Perimeter of Triangle:Height1+Height2+Breadth\n",
      "Perimeter of Triangle: 10\n"
     ]
    },
    {
     "data": {
      "text/plain": [
       "(544.0, 10)"
      ]
     },
     "execution_count": 17,
     "metadata": {},
     "output_type": "execute_result"
    }
   ],
   "source": [
    "triangle.triangle()"
   ]
  },
  {
   "cell_type": "code",
   "execution_count": null,
   "id": "3fa7442b-9c0f-4855-b4e3-c462b3a7f6ef",
   "metadata": {},
   "outputs": [],
   "source": []
  }
 ],
 "metadata": {
  "kernelspec": {
   "display_name": "Python [conda env:base] *",
   "language": "python",
   "name": "conda-base-py"
  },
  "language_info": {
   "codemirror_mode": {
    "name": "ipython",
    "version": 3
   },
   "file_extension": ".py",
   "mimetype": "text/x-python",
   "name": "python",
   "nbconvert_exporter": "python",
   "pygments_lexer": "ipython3",
   "version": "3.12.7"
  }
 },
 "nbformat": 4,
 "nbformat_minor": 5
}
