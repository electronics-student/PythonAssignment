{
 "cells": [
  {
   "cell_type": "code",
   "execution_count": 18,
   "id": "70355666-befc-4f77-a85f-1cd69cddbd28",
   "metadata": {},
   "outputs": [],
   "source": [
    "from funmultiple import funmultiple"
   ]
  },
  {
   "cell_type": "code",
   "execution_count": 19,
   "id": "ae0daafc-c0f1-4b94-a34b-56b88d715483",
   "metadata": {},
   "outputs": [
    {
     "name": "stdout",
     "output_type": "stream",
     "text": [
      "Sub-fields in AI are:\n",
      "Machine Learning\n",
      "Neural Networks\n",
      "Vision\n",
      "Robotics\n",
      "Speech Processing\n",
      "Natural Language Processing\n"
     ]
    }
   ],
   "source": [
    "funmultiple.Subfields()"
   ]
  },
  {
   "cell_type": "code",
   "execution_count": 20,
   "id": "619fdbb3-c0eb-40a5-ab18-ae14635d8a21",
   "metadata": {},
   "outputs": [
    {
     "name": "stdin",
     "output_type": "stream",
     "text": [
      "Enter a number: 5\n"
     ]
    },
    {
     "name": "stdout",
     "output_type": "stream",
     "text": [
      "5  is odd Number\n"
     ]
    },
    {
     "data": {
      "text/plain": [
       "'Odd Number'"
      ]
     },
     "execution_count": 20,
     "metadata": {},
     "output_type": "execute_result"
    }
   ],
   "source": [
    "funmultiple.OddEven()"
   ]
  },
  {
   "cell_type": "code",
   "execution_count": 21,
   "id": "6a3513e3-a0ee-4009-80a5-3fdc147a575c",
   "metadata": {},
   "outputs": [
    {
     "name": "stdin",
     "output_type": "stream",
     "text": [
      "Your Gender: Male\n",
      "Your Age: 25\n"
     ]
    },
    {
     "name": "stdout",
     "output_type": "stream",
     "text": [
      "ELIGIBLE\n"
     ]
    }
   ],
   "source": [
    "funmultiple.Elegible()"
   ]
  },
  {
   "cell_type": "code",
   "execution_count": 22,
   "id": "65dce13e-813b-4f97-b09a-cec7932d2ba7",
   "metadata": {},
   "outputs": [
    {
     "name": "stdin",
     "output_type": "stream",
     "text": [
      "Subject1= 68\n",
      "Subject2= 54\n",
      "Subject3= 58\n",
      "Subject4= 35\n",
      "Subject5= 98\n"
     ]
    },
    {
     "name": "stdout",
     "output_type": "stream",
     "text": [
      "Total: 313\n",
      "Percentage : 62.6\n"
     ]
    },
    {
     "data": {
      "text/plain": [
       "62.6"
      ]
     },
     "execution_count": 22,
     "metadata": {},
     "output_type": "execute_result"
    }
   ],
   "source": [
    "funmultiple.percentage()"
   ]
  },
  {
   "cell_type": "code",
   "execution_count": 23,
   "id": "5bf6338e-c0ad-4ea1-9481-bad5987b44dd",
   "metadata": {},
   "outputs": [
    {
     "name": "stdin",
     "output_type": "stream",
     "text": [
      "Height: 5\n",
      "Breadth: 2\n"
     ]
    },
    {
     "name": "stdout",
     "output_type": "stream",
     "text": [
      "Area formula:(Height*Breadth)/2\n",
      "Area of Triangle: 5.0\n"
     ]
    },
    {
     "name": "stdin",
     "output_type": "stream",
     "text": [
      "Height1: 6\n",
      "Height2: 6\n",
      "Breadth: 5\n"
     ]
    },
    {
     "name": "stdout",
     "output_type": "stream",
     "text": [
      "Perimeter of Triangle:Height1+Height2+Breadth\n",
      "Perimeter of Triangle: 17\n"
     ]
    },
    {
     "data": {
      "text/plain": [
       "(5.0, 17)"
      ]
     },
     "execution_count": 23,
     "metadata": {},
     "output_type": "execute_result"
    }
   ],
   "source": [
    "funmultiple.triangle()"
   ]
  },
  {
   "cell_type": "code",
   "execution_count": null,
   "id": "532f81a0-a95b-483b-8e52-9cb83979f34f",
   "metadata": {},
   "outputs": [],
   "source": []
  }
 ],
 "metadata": {
  "kernelspec": {
   "display_name": "Python [conda env:base] *",
   "language": "python",
   "name": "conda-base-py"
  },
  "language_info": {
   "codemirror_mode": {
    "name": "ipython",
    "version": 3
   },
   "file_extension": ".py",
   "mimetype": "text/x-python",
   "name": "python",
   "nbconvert_exporter": "python",
   "pygments_lexer": "ipython3",
   "version": "3.12.7"
  }
 },
 "nbformat": 4,
 "nbformat_minor": 5
}
