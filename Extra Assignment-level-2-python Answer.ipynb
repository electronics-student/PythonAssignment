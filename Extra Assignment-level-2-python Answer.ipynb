{
 "cells": [
  {
   "cell_type": "code",
   "execution_count": 13,
   "id": "2800e265-17d0-44b5-9886-69da5f54d78d",
   "metadata": {},
   "outputs": [
    {
     "name": "stdout",
     "output_type": "stream",
     "text": [
      "0\n",
      "1\n",
      "2\n",
      "3\n",
      "4\n",
      "5\n",
      "6\n",
      "7\n",
      "8\n",
      "9\n",
      "10\n",
      "11\n",
      "12\n",
      "13\n",
      "14\n",
      "15\n",
      "16\n",
      "17\n",
      "18\n",
      "19\n"
     ]
    }
   ],
   "source": [
    "for Num1 in range(0,20):\n",
    "    print(Num1)"
   ]
  },
  {
   "cell_type": "code",
   "execution_count": 40,
   "id": "0a9f3fe2-7ec4-4690-a83f-d84ba4fda514",
   "metadata": {},
   "outputs": [
    {
     "name": "stdout",
     "output_type": "stream",
     "text": [
      "[10, 11, 12, 13, 14, 15, 16, 17, 18, 19]\n"
     ]
    }
   ],
   "source": [
    "myrange= range(10,20)\n",
    "myrangelist = list(myrange)\n",
    "print(myrangelist)"
   ]
  },
  {
   "cell_type": "code",
   "execution_count": 7,
   "id": "283739ec-523f-4fa8-98c1-c570222ca276",
   "metadata": {},
   "outputs": [
    {
     "name": "stdout",
     "output_type": "stream",
     "text": [
      "[10, 20, 14, 55, 43, 87, 76]\n",
      "Number of item in the List2: 7\n"
     ]
    }
   ],
   "source": [
    "List2 = [10, 20, 14, 55, 43, 87, 76]\n",
    "length = len(List2)\n",
    "print(List2)\n",
    "print(\"Number of item in the List2:\",length)"
   ]
  },
  {
   "cell_type": "code",
   "execution_count": 42,
   "id": "2ced1c30-b728-4545-9c88-8c3334ed0242",
   "metadata": {},
   "outputs": [
    {
     "name": "stdout",
     "output_type": "stream",
     "text": [
      "Artificial Intelligence\n",
      "A\n",
      "r\n",
      "t\n",
      "i\n",
      "f\n",
      "i\n",
      "c\n",
      "i\n",
      "a\n",
      "l\n",
      " \n",
      "I\n",
      "n\n",
      "t\n",
      "e\n",
      "l\n",
      "l\n",
      "i\n",
      "g\n",
      "e\n",
      "n\n",
      "c\n",
      "e\n"
     ]
    }
   ],
   "source": [
    "print(\"Artificial Intelligence\")\n",
    "mystringname=\"Artificial Intelligence\"\n",
    "for string in mystringname:\n",
    "    print(string)\n",
    "    "
   ]
  },
  {
   "cell_type": "code",
   "execution_count": 43,
   "id": "a5ed390a-6e3d-405f-9ead-6bf300c696e2",
   "metadata": {},
   "outputs": [
    {
     "name": "stdout",
     "output_type": "stream",
     "text": [
      "-Your Name-\n",
      "-Your Age-\n",
      "-Your Profession-\n"
     ]
    }
   ],
   "source": [
    "print(\"-Your Name-\")\n",
    "print(\"-Your Age-\")\n",
    "print(\"-Your Profession-\")"
   ]
  },
  {
   "cell_type": "code",
   "execution_count": 48,
   "id": "324fd267-6376-4d7e-a170-c3e55dddbd5c",
   "metadata": {},
   "outputs": [
    {
     "name": "stdout",
     "output_type": "stream",
     "text": [
      "(1, 'Welcome', 2, 'Hope')\n"
     ]
    }
   ],
   "source": [
    "stringandnumber= (1, 'Welcome', 2, 'Hope')\n",
    "print(stringandnumber)"
   ]
  },
  {
   "cell_type": "code",
   "execution_count": null,
   "id": "cde8769e-b394-4ea2-aa31-9e9e5774b468",
   "metadata": {},
   "outputs": [],
   "source": [
    "((0, 1, 2, 3), ('python', 'HOPE'))"
   ]
  },
  {
   "cell_type": "code",
   "execution_count": 1,
   "id": "3038fce4-d10b-43ee-8e39-3c8f35f5fdff",
   "metadata": {},
   "outputs": [
    {
     "name": "stdout",
     "output_type": "stream",
     "text": [
      "(0, 1, 2, 3, 'python', 'HOPE')\n"
     ]
    }
   ],
   "source": [
    "Number=(0,1,2,3)\n",
    "string=('python', 'HOPE')\n",
    "combine = Number + string\n",
    "print(tuple(combine))"
   ]
  },
  {
   "cell_type": "code",
   "execution_count": 11,
   "id": "b071b432-1835-4c58-bd2d-bacbfe3ad9a9",
   "metadata": {},
   "outputs": [
    {
     "name": "stdout",
     "output_type": "stream",
     "text": [
      "(20, 10, 16, 19, 25, 1, 276, 188)\n",
      "19  is odd\n",
      "25  is odd\n",
      "1  is odd\n"
     ]
    }
   ],
   "source": [
    "lists=(20,10,16,19,25,1,276,188)\n",
    "print(lists)\n",
    "for check in lists:\n",
    "    if(check % 2 == 1):\n",
    "        print(check, \" is odd\")\n",
    "   "
   ]
  },
  {
   "cell_type": "code",
   "execution_count": 12,
   "id": "f9807fd2-b69c-41d3-b65e-a14d84cff88e",
   "metadata": {},
   "outputs": [
    {
     "name": "stdout",
     "output_type": "stream",
     "text": [
      "(20, 10, 16, 19, 25, 1, 276, 188)\n",
      "20  is even\n",
      "10  is even\n",
      "16  is even\n",
      "276  is even\n",
      "188  is even\n"
     ]
    }
   ],
   "source": [
    "lists=(20,10,16,19,25,1,276,188)\n",
    "print(lists)\n",
    "for check in lists:\n",
    "    if(check % 2 == 0):\n",
    "        print(check, \" is even\")\n",
    "        "
   ]
  },
  {
   "cell_type": "code",
   "execution_count": null,
   "id": "6f8ac0ac-0441-4dd8-95d9-299e215d1872",
   "metadata": {},
   "outputs": [],
   "source": []
  }
 ],
 "metadata": {
  "kernelspec": {
   "display_name": "Python [conda env:base] *",
   "language": "python",
   "name": "conda-base-py"
  },
  "language_info": {
   "codemirror_mode": {
    "name": "ipython",
    "version": 3
   },
   "file_extension": ".py",
   "mimetype": "text/x-python",
   "name": "python",
   "nbconvert_exporter": "python",
   "pygments_lexer": "ipython3",
   "version": "3.12.7"
  }
 },
 "nbformat": 4,
 "nbformat_minor": 5
}
