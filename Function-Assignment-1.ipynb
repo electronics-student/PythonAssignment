{
 "cells": [
  {
   "cell_type": "code",
   "execution_count": 20,
   "id": "0ba2ac29-61e7-4318-ab6f-16e3357112d4",
   "metadata": {},
   "outputs": [],
   "source": [
    "def Subfields():\n",
    "    print(\"Sub-fields in AI are:\")\n",
    "    Subfields = \"Sub-fields in AI are:\"\n",
    "    print(\"Machine Learning\")\n",
    "    Subfields =\"Machine Learning\"\n",
    "    print(\"Neural Networks\")\n",
    "    Subfields =\"Neural Networks\"\n",
    "    print(\"Vision\")\n",
    "    Subfields =\"Vision\"\n",
    "    print(\"Robotics\")\n",
    "    Subfields =\"Robotics\"\n",
    "    print(\"Speech Processing\")\n",
    "    Subfields =\"Speech Processing\" \n",
    "    print(\"Natural Language Processing\")\n",
    "    Subfields =\"Natural Language Processing\"\n",
    " "
   ]
  },
  {
   "cell_type": "code",
   "execution_count": 21,
   "id": "e12cc7f6-2a60-45b5-b68f-f776a187c01c",
   "metadata": {},
   "outputs": [
    {
     "name": "stdout",
     "output_type": "stream",
     "text": [
      "Sub-fields in AI are:\n",
      "Machine Learning\n",
      "Neural Networks\n",
      "Vision\n",
      "Robotics\n",
      "Speech Processing\n",
      "Natural Language Processing\n"
     ]
    }
   ],
   "source": [
    "Subfields()"
   ]
  },
  {
   "cell_type": "code",
   "execution_count": 11,
   "id": "e1edc625-a8da-45fe-82b9-700d375279bf",
   "metadata": {},
   "outputs": [],
   "source": [
    "def OddEven():\n",
    "    num = int(input(\"Enter a number:\"))\n",
    "    if(num % 2 == 0):\n",
    "        print(num, \" is Even Number\")\n",
    "        OddEven = \"is Even Number\"\n",
    "    else:\n",
    "        print(num, \" is odd Number\")\n",
    "        OddEven = \"is Odd Number\"\n",
    "        return OddEven "
   ]
  },
  {
   "cell_type": "code",
   "execution_count": 12,
   "id": "228a738d-b07a-4268-867d-2022aaf2455d",
   "metadata": {},
   "outputs": [
    {
     "name": "stdin",
     "output_type": "stream",
     "text": [
      "Enter a number: 4\n"
     ]
    },
    {
     "name": "stdout",
     "output_type": "stream",
     "text": [
      "4  is Even Number\n"
     ]
    }
   ],
   "source": [
    "OddEven()"
   ]
  },
  {
   "cell_type": "code",
   "execution_count": 2,
   "id": "46400d31-9a06-4a3a-88cd-0931f82c3bcf",
   "metadata": {},
   "outputs": [],
   "source": [
    "def Elegible():\n",
    "    Gender = input(\"Your Gender:\")\n",
    "    num = int(input(\"Your Age:\"))\n",
    "    if(Gender == \"Female\"):\n",
    "        if(num>=18):\n",
    "            print(\"ELIGIBLE\")\n",
    "            marriage=\"ELIGIBLE\"\n",
    "        else:\n",
    "            print(\"NOT ElIGIBLE\")\n",
    "            marriage = \"NOT ElIGIBLE\"\n",
    "    if(Gender == \"Male\"):\n",
    "        if(num>=21):\n",
    "            print(\"ELIGIBLE\")\n",
    "            marriage=\"ELIGIBLE\"\n",
    "        else:\n",
    "            print(\"NOT ElIGIBLE\")\n",
    "            marriage = \"NOT ElIGIBLE\"\n",
    "            return marriage"
   ]
  },
  {
   "cell_type": "code",
   "execution_count": 3,
   "id": "2ffc8ff5-e461-4d19-94b3-b213007e51af",
   "metadata": {},
   "outputs": [
    {
     "name": "stdin",
     "output_type": "stream",
     "text": [
      "Your Gender: Male\n",
      "Your Age: 18\n"
     ]
    },
    {
     "name": "stdout",
     "output_type": "stream",
     "text": [
      "NOT ElIGIBLE\n"
     ]
    },
    {
     "data": {
      "text/plain": [
       "'NOT ElIGIBLE'"
      ]
     },
     "execution_count": 3,
     "metadata": {},
     "output_type": "execute_result"
    }
   ],
   "source": [
    "Elegible()"
   ]
  },
  {
   "cell_type": "code",
   "execution_count": 7,
   "id": "1e8fa7ae-0dcc-4fd8-877f-4ea2bec77939",
   "metadata": {},
   "outputs": [],
   "source": [
    "def percentage():\n",
    "    num1 = int(input(\"Subject1=\"))\n",
    "    num2 = int(input(\"Subject2=\"))\n",
    "    num3 = int(input(\"Subject3=\"))\n",
    "    num4 = int(input(\"Subject4=\"))\n",
    "    num5 = int(input(\"Subject5=\"))\n",
    "    Total = num1+num2+num3+num4+num5\n",
    "    print(\"Total:\",Total)\n",
    "    Average = Total/5.00\n",
    "    print(\"Percentage :\",Average)\n",
    "    return Average"
   ]
  },
  {
   "cell_type": "code",
   "execution_count": 51,
   "id": "bebec801-2cdd-4ea1-9f19-9a987e38c2df",
   "metadata": {},
   "outputs": [
    {
     "name": "stdin",
     "output_type": "stream",
     "text": [
      "Subject1= 23\n",
      "Subject2= 45\n",
      "Subject3= 34\n",
      "Subject4= 23\n",
      "Subject5= 23\n"
     ]
    },
    {
     "name": "stdout",
     "output_type": "stream",
     "text": [
      "Total: 148\n",
      "Percentage : 29.6\n"
     ]
    },
    {
     "data": {
      "text/plain": [
       "29.6"
      ]
     },
     "execution_count": 51,
     "metadata": {},
     "output_type": "execute_result"
    }
   ],
   "source": [
    "percentage()"
   ]
  },
  {
   "cell_type": "code",
   "execution_count": 8,
   "id": "f57b2e97-0187-4de0-9bfa-6906f315931e",
   "metadata": {},
   "outputs": [],
   "source": [
    "def triangle():\n",
    "    Height = int(input(\"Height:\"))\n",
    "    Breadth = int(input(\"Breadth:\"))\n",
    "    print(\"Area formula:(Height*Breadth)/2\")\n",
    "    Area_of_Triangle = (Height*Breadth)/2\n",
    "    print(\"Area of Triangle:\",Area_of_Triangle)\n",
    "    Height1 = int(input(\"Height1:\"))\n",
    "    Height2 = int(input(\"Height2:\"))\n",
    "    Breadth = int(input(\"Breadth:\"))\n",
    "    print(\"Perimeter of Triangle:Height1+Height2+Breadth\")\n",
    "    Perimeter_of_Triangle = Height1+Height2+Breadth\n",
    "    print(\"Perimeter of Triangle:\",Perimeter_of_Triangle)\n",
    "    return (Area_of_Triangle,Perimeter_of_Triangle)"
   ]
  },
  {
   "cell_type": "code",
   "execution_count": 44,
   "id": "01d58d8b-98d4-4d4e-ba60-5584e0b6d18c",
   "metadata": {},
   "outputs": [
    {
     "name": "stdin",
     "output_type": "stream",
     "text": [
      "Height: 3\n",
      "Breadth: 4\n"
     ]
    },
    {
     "name": "stdout",
     "output_type": "stream",
     "text": [
      "Area formula:(Height*Breadth)/2\n",
      "Area of Triangle: 6.0\n"
     ]
    },
    {
     "name": "stdin",
     "output_type": "stream",
     "text": [
      "Height1: 3\n",
      "Height2: 4\n",
      "Breadth: 45\n"
     ]
    },
    {
     "name": "stdout",
     "output_type": "stream",
     "text": [
      "Perimeter of Triangle:Height1+Height2+Breadth\n",
      "Perimeter of Triangle: 52\n"
     ]
    }
   ],
   "source": [
    "triangle()"
   ]
  },
  {
   "cell_type": "code",
   "execution_count": null,
   "id": "1aaad6d7-f9e1-4413-9762-210ae54ab8b0",
   "metadata": {},
   "outputs": [],
   "source": []
  }
 ],
 "metadata": {
  "kernelspec": {
   "display_name": "Python [conda env:base] *",
   "language": "python",
   "name": "conda-base-py"
  },
  "language_info": {
   "codemirror_mode": {
    "name": "ipython",
    "version": 3
   },
   "file_extension": ".py",
   "mimetype": "text/x-python",
   "name": "python",
   "nbconvert_exporter": "python",
   "pygments_lexer": "ipython3",
   "version": "3.12.7"
  }
 },
 "nbformat": 4,
 "nbformat_minor": 5
}
